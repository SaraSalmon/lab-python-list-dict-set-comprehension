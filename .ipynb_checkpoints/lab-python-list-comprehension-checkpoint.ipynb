{
 "cells": [
  {
   "cell_type": "markdown",
   "id": "25d7736c-ba17-4aff-b6bb-66eba20fbf4e",
   "metadata": {},
   "source": [
    "# Lab | List, Dict and Set Comprehension"
   ]
  },
  {
   "cell_type": "markdown",
   "id": "7dd3cbde-675a-4b81-92c3-f728846dbe06",
   "metadata": {},
   "source": [
    "## Exercise: Managing Customer Orders Optimized with Comprehension"
   ]
  },
  {
   "cell_type": "markdown",
   "id": "5d500160-2fb7-4777-b5e4-09d45ebaf328",
   "metadata": {},
   "source": [
    "In the previous exercise, you developed a program to manage customer orders and inventory. Now, let's take it a step further and incorporate comprehension into your code.\n",
    "\n",
    "Follow the steps below to complete the exercise:\n",
    "\n",
    "1. Review your code from the previous exercise and identify areas where you can apply comprehension to simplify and streamline your code. \n",
    "\n",
    "    - *Hint: Apply it to initialize inventory, updating the inventory and printing the updated inventory.*\n",
    "    \n",
    "    - For example, in initializing the inventory, we could have:\n",
    "    \n",
    "        ```python\n",
    "        def initialize_inventory(products):\n",
    "            inventory = {product: int(input(f\"Enter the quantity of {product}s available: \")) for product in products}\n",
    "            return inventory\n",
    "\n",
    "        ```\n",
    "<br>\n",
    "    \n",
    "    \n",
    "2. Modify the function get_customer_orders so it prompts the user to enter the number of customer orders and gathers the product names using a loop and user input. Use comprehension.\n",
    "\n",
    "3. Add a new function to calculate the total price of the customer order. For each product in customer_orders, prompt the user to enter the price of that product. Use comprehension to calculate the total price. Note: assume that the user can only have 1 unit of each product.\n",
    "\n",
    "4. Modify the update_inventory function to remove the product from the inventory if its quantity becomes zero after fulfilling the customer orders. Use comprehension to filter out the products with a quantity of zero from the inventory.\n",
    "\n",
    "5. Print the total price of the customer order.\n",
    "\n",
    "Your code should produce output similar to the following:\n",
    "\n",
    "```python\n",
    "Enter the quantity of t-shirts available:  5\n",
    "Enter the quantity of mugs available:  4\n",
    "Enter the quantity of hats available:  3\n",
    "Enter the quantity of books available:  2\n",
    "Enter the quantity of keychains available:  1\n",
    "Enter the number of customer orders:  2\n",
    "Enter the name of a product that a customer wants to order:  hat\n",
    "Enter the name of a product that a customer wants to order:  keychain\n",
    "\n",
    "Order Statistics:\n",
    "Total Products Ordered: 2\n",
    "Percentage of Unique Products Ordered: 40.0\n",
    "\n",
    "Updated Inventory:\n",
    "t-shirt: 5\n",
    "mug: 4\n",
    "hat: 2\n",
    "book: 2\n",
    "Enter the price of keychain:  5\n",
    "Enter the price of hat:  10\n",
    "Total Price: 15.0\n",
    "\n",
    "```\n"
   ]
  },
  {
   "cell_type": "markdown",
   "id": "bc982a02-dd72-496f-aa50-64c53cf98ab6",
   "metadata": {},
   "source": [
    "# 1. Review your code from the previous exercise and identify areas where you can apply comprehension to simplify and streamline your code.\n",
    "\n",
    "Hint: Apply it to initialize inventory, updating the inventory and printing the updated inventory.\n",
    "\n",
    "For example, in initializing the inventory, we could have:\n",
    "\n",
    "def initialize_inventory(products):\n",
    "    inventory = {product: int(input(f\"Enter the quantity of {product}s available: \")) for product in products}\n",
    "    return inventory"
   ]
  },
  {
   "cell_type": "code",
   "execution_count": 1,
   "id": "ea61070b-8886-47c8-a2cf-7edb60f3f049",
   "metadata": {},
   "outputs": [],
   "source": [
    "products = [\"t-shirt\", \"mug\", \"hat\", \"book\", \"keychain\"]\n",
    "def initialize_inventory(products): \n",
    "    inventory = {product: int(input(\"Please, enter the quantity of\" +\" \" + product + \":\")) for product in products} \n",
    "    return inventory"
   ]
  },
  {
   "cell_type": "code",
   "execution_count": 110,
   "id": "0b92226b-bbd6-4134-8850-d1e3a0d579de",
   "metadata": {},
   "outputs": [
    {
     "name": "stdin",
     "output_type": "stream",
     "text": [
      "Please, enter the quantity of t-shirt: 1\n",
      "Please, enter the quantity of mug: 2\n",
      "Please, enter the quantity of hat: 3\n",
      "Please, enter the quantity of book: 4\n",
      "Please, enter the quantity of keychain: 5\n"
     ]
    }
   ],
   "source": [
    "inventory = initialize_inventory(products)"
   ]
  },
  {
   "cell_type": "code",
   "execution_count": null,
   "id": "7fc03c44-17c8-4c2a-aaf2-130053c58e82",
   "metadata": {},
   "outputs": [],
   "source": [
    "#customer_orders=set()\n",
    "#def update_inventory(customer_orders, inventory1):\n",
    "   # inventory = {product-1 for product in customer_orders if product in inventory1}\n",
    "   # return inventory"
   ]
  },
  {
   "cell_type": "markdown",
   "id": "a9136a2f-f0b1-4a30-969f-5e7a4ff7d959",
   "metadata": {},
   "source": [
    "2. Modify the function get_customer_orders so it prompts the user to enter the number of customer orders and gathers the product names using a loop and user input. Use comprehension."
   ]
  },
  {
   "cell_type": "code",
   "execution_count": 112,
   "id": "2e351e6c-4a30-44d7-8296-2e123f0d4934",
   "metadata": {},
   "outputs": [
    {
     "name": "stdin",
     "output_type": "stream",
     "text": [
      "Enter the name of a product you wish to order:  hat\n",
      "Enter the name of a product you wish to order:  mug\n",
      "Enter the name of a product you wish to order:  book\n"
     ]
    }
   ],
   "source": [
    "# Función que solicite al usuario el número de productos que quiere y luego\n",
    "# Mediante un loop for le pregunte cuales son esos productos x veces\n",
    "\n",
    "def get_customer_orders():\n",
    "    customer_orders = [input(\"Enter the name of a product you wish to order: \")for product in range(3)]\n",
    "    return customer_orders\n",
    "\n",
    "customer_orders = get_customer_orders()"
   ]
  },
  {
   "cell_type": "code",
   "execution_count": 62,
   "id": "8e084afb-da4d-48c5-8bf0-98cc34882ff1",
   "metadata": {},
   "outputs": [
    {
     "name": "stdout",
     "output_type": "stream",
     "text": [
      "['hat', 'mug', 'book']\n"
     ]
    },
    {
     "data": {
      "text/plain": [
       "list"
      ]
     },
     "execution_count": 62,
     "metadata": {},
     "output_type": "execute_result"
    }
   ],
   "source": [
    "print(customer_orders)\n",
    "type(customer_orders)"
   ]
  },
  {
   "cell_type": "markdown",
   "id": "a997fbd5-a0a3-4078-9da2-958b5096be4d",
   "metadata": {},
   "source": [
    "3. Add a new function to calculate the total price of the customer order. For each product in customer_orders, prompt the user to enter the price of that product. Use comprehension to calculate the total price. Note: assume that the user can only have 1 unit of each product."
   ]
  },
  {
   "cell_type": "code",
   "execution_count": 64,
   "id": "b00b0d69-0664-40d3-88eb-49dd4d994ea7",
   "metadata": {},
   "outputs": [],
   "source": [
    "def total_price_customer_order():\n",
    "    \"\"\" Función para calcular el precio total de los pedidos \"\"\"\n",
    "    price_customer_orders = [int(input(f\"Enter the price of {product}: \")) for product in customer_orders]\n",
    "    return sum(price_customer_orders)"
   ]
  },
  {
   "cell_type": "code",
   "execution_count": 114,
   "id": "91d00713-f81d-4d00-9bc9-0dcc76495544",
   "metadata": {},
   "outputs": [
    {
     "name": "stdin",
     "output_type": "stream",
     "text": [
      "Enter the price of hat:  10\n",
      "Enter the price of mug:  20\n",
      "Enter the price of book:  30\n"
     ]
    },
    {
     "data": {
      "text/plain": [
       "60"
      ]
     },
     "execution_count": 114,
     "metadata": {},
     "output_type": "execute_result"
    }
   ],
   "source": [
    "total_price_customer_order()"
   ]
  },
  {
   "cell_type": "markdown",
   "id": "95c95ed8-1b69-4109-9408-62ee2e3e5f91",
   "metadata": {},
   "source": [
    "4. Modify the update_inventory function to remove the product from the inventory if its quantity becomes zero after fulfilling the customer orders. Use comprehension to filter out the products with a quantity of zero from the inventory."
   ]
  },
  {
   "cell_type": "code",
   "execution_count": 118,
   "id": "bca67d1b-d7fc-4dbd-8db0-242375ed109f",
   "metadata": {},
   "outputs": [],
   "source": [
    "def update_inventory(customer_orders, inventory):\n",
    "    inventory = {product:inventory[product]-1 if product in customer_orders else inventory[product] for product in inventory}\n",
    "    inventory = {product:inventory[product] for product in inventory if inventory[product]>0}\n",
    "    return inventory"
   ]
  },
  {
   "cell_type": "code",
   "execution_count": 124,
   "id": "0190a271-ff89-4514-9471-6b88b95102f5",
   "metadata": {},
   "outputs": [],
   "source": [
    "updated_inventory = update_inventory(customer_orders, inventory)"
   ]
  },
  {
   "cell_type": "markdown",
   "id": "73d4b346-2642-4df2-a8f1-1dd70e6b1fc9",
   "metadata": {},
   "source": [
    "#### 5. Print the total price of the customer order."
   ]
  },
  {
   "cell_type": "code",
   "execution_count": 126,
   "id": "734a476a-1577-41d1-84c7-cc7d598f4275",
   "metadata": {},
   "outputs": [
    {
     "name": "stdout",
     "output_type": "stream",
     "text": [
      "Updated inventory:\n",
      "t-shirt: 1\n",
      "mug: 1\n",
      "hat: 2\n",
      "book: 3\n",
      "keychain: 5\n"
     ]
    }
   ],
   "source": [
    "def print_updated_inventory(updated_inventory):\n",
    "    \"\"\" Función para imprimir el inventario actualizado \"\"\"\n",
    "    print(\"Updated inventory:\")\n",
    "    for product, quantity in updated_inventory.items():\n",
    "        print(f\"{product}: {quantity}\")\n",
    "    return \n",
    "\n",
    "print_updated_inventory(updated_inventory)"
   ]
  }
 ],
 "metadata": {
  "kernelspec": {
   "display_name": "Python 3 (ipykernel)",
   "language": "python",
   "name": "python3"
  },
  "language_info": {
   "codemirror_mode": {
    "name": "ipython",
    "version": 3
   },
   "file_extension": ".py",
   "mimetype": "text/x-python",
   "name": "python",
   "nbconvert_exporter": "python",
   "pygments_lexer": "ipython3",
   "version": "3.12.4"
  }
 },
 "nbformat": 4,
 "nbformat_minor": 5
}
